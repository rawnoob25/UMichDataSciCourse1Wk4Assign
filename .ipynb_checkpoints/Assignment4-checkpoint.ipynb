{
 "cells": [
  {
   "cell_type": "markdown",
   "metadata": {},
   "source": [
    "---\n",
    "\n",
    "_You are currently looking at **version 1.1** of this notebook. To download notebooks and datafiles, as well as get help on Jupyter notebooks in the Coursera platform, visit the [Jupyter Notebook FAQ](https://www.coursera.org/learn/python-data-analysis/resources/0dhYG) course resource._\n",
    "\n",
    "---"
   ]
  },
  {
   "cell_type": "code",
   "execution_count": 82,
   "metadata": {
    "collapsed": true
   },
   "outputs": [],
   "source": [
    "import pandas as pd\n",
    "import numpy as np\n",
    "import matplotlib.pyplot as plt\n",
    "from scipy.stats import ttest_ind"
   ]
  },
  {
   "cell_type": "markdown",
   "metadata": {},
   "source": [
    "# Assignment 4 - Hypothesis Testing\n",
    "This assignment requires more individual learning than previous assignments - you are encouraged to check out the [pandas documentation](http://pandas.pydata.org/pandas-docs/stable/) to find functions or methods you might not have used yet, or ask questions on [Stack Overflow](http://stackoverflow.com/) and tag them as pandas and python related. And of course, the discussion forums are open for interaction with your peers and the course staff.\n",
    "\n",
    "Definitions:\n",
    "* A _quarter_ is a specific three month period, Q1 is January through March, Q2 is April through June, Q3 is July through September, Q4 is October through December.\n",
    "* A _recession_ is defined as starting with two consecutive quarters of GDP decline, and ending with two consecutive quarters of GDP growth.\n",
    "* A _recession bottom_ is the quarter within a recession which had the lowest GDP.\n",
    "* A _university town_ is a city which has a high percentage of university students compared to the total population of the city.\n",
    "\n",
    "**Hypothesis**: University towns have their mean housing prices less effected by recessions. Run a t-test to compare the ratio of the mean price of houses in university towns the quarter before the recession starts compared to the recession bottom. (`price_ratio=quarter_before_recession/recession_bottom`)\n",
    "\n",
    "The following data files are available for this assignment:\n",
    "* From the [Zillow research data site](http://www.zillow.com/research/data/) there is housing data for the United States. In particular the datafile for [all homes at a city level](http://files.zillowstatic.com/research/public/City/City_Zhvi_AllHomes.csv), ```City_Zhvi_AllHomes.csv```, has median home sale prices at a fine grained level.\n",
    "* From the Wikipedia page on college towns is a list of [university towns in the United States](https://en.wikipedia.org/wiki/List_of_college_towns#College_towns_in_the_United_States) which has been copy and pasted into the file ```university_towns.txt```.\n",
    "* From Bureau of Economic Analysis, US Department of Commerce, the [GDP over time](http://www.bea.gov/national/index.htm#gdp) of the United States in current dollars (use the chained value in 2009 dollars), in quarterly intervals, in the file ```gdplev.xls```. For this assignment, only look at GDP data from the first quarter of 2000 onward.\n",
    "\n",
    "Each function in this assignment below is worth 10%, with the exception of ```run_ttest()```, which is worth 50%."
   ]
  },
  {
   "cell_type": "code",
   "execution_count": 84,
   "metadata": {
    "collapsed": true
   },
   "outputs": [],
   "source": [
    "# Use this dictionary to map state names to two letter acronyms\n",
    "states = {'OH': 'Ohio', 'KY': 'Kentucky', 'AS': 'American Samoa', 'NV': 'Nevada', 'WY': 'Wyoming', 'NA': 'National', 'AL': 'Alabama', 'MD': 'Maryland', 'AK': 'Alaska', 'UT': 'Utah', 'OR': 'Oregon', 'MT': 'Montana', 'IL': 'Illinois', 'TN': 'Tennessee', 'DC': 'District of Columbia', 'VT': 'Vermont', 'ID': 'Idaho', 'AR': 'Arkansas', 'ME': 'Maine', 'WA': 'Washington', 'HI': 'Hawaii', 'WI': 'Wisconsin', 'MI': 'Michigan', 'IN': 'Indiana', 'NJ': 'New Jersey', 'AZ': 'Arizona', 'GU': 'Guam', 'MS': 'Mississippi', 'PR': 'Puerto Rico', 'NC': 'North Carolina', 'TX': 'Texas', 'SD': 'South Dakota', 'MP': 'Northern Mariana Islands', 'IA': 'Iowa', 'MO': 'Missouri', 'CT': 'Connecticut', 'WV': 'West Virginia', 'SC': 'South Carolina', 'LA': 'Louisiana', 'KS': 'Kansas', 'NY': 'New York', 'NE': 'Nebraska', 'OK': 'Oklahoma', 'FL': 'Florida', 'CA': 'California', 'CO': 'Colorado', 'PA': 'Pennsylvania', 'DE': 'Delaware', 'NM': 'New Mexico', 'RI': 'Rhode Island', 'MN': 'Minnesota', 'VI': 'Virgin Islands', 'NH': 'New Hampshire', 'MA': 'Massachusetts', 'GA': 'Georgia', 'ND': 'North Dakota', 'VA': 'Virginia'}"
   ]
  },
  {
   "cell_type": "markdown",
   "metadata": {},
   "source": [
    "**Notice how the below cell makes a list of tuples- each with the state and the region, by appending to the list as it reads the file. <em>Only after the entire list has been made is the data frame constructed- with one column being the first elements of the tuples in the list of tuples and the other column being the second elements of the tuples in the list of tuples</em>**\n",
    "\n",
    "**This is superior to the approach taken in SECOND_get_list_of_university_towns() since SECOND_get_list_of_university_towns() has an append call on the dataframe inside of the loop that processes the file. Each call to append would create a new data frame of suitable size and copy the original data to the new data frame; this is very inefficient.**"
   ]
  },
  {
   "cell_type": "code",
   "execution_count": 85,
   "metadata": {
    "collapsed": true
   },
   "outputs": [],
   "source": [
    "def get_list_of_university_towns():\n",
    "    '''Returns a DataFrame of towns and the states they are in from the \n",
    "    university_towns.txt list. The format of the DataFrame should be:\n",
    "    DataFrame( [ [\"Michigan\", \"Ann Arbor\"], [\"Michigan\", \"Yipsilanti\"] ], \n",
    "    columns=[\"State\", \"RegionName\"]  )\n",
    "    \n",
    "    The following cleaning needs to be done:\n",
    "\n",
    "    1. For \"State\", removing characters from \"[\" to the end.\n",
    "    2. For \"RegionName\", when applicable, removing every character from \" (\" to the end.\n",
    "    3. Depending on how you read the data, you may need to remove newline character '\\n'. '''\n",
    "    import re\n",
    "    f = open('university_towns.txt', 'r')\n",
    "    lst = []\n",
    "    state =''\n",
    "    region = ''\n",
    "    for line in f:\n",
    "        if '[ed' in line:\n",
    "            state = re.sub('\\[[\\s\\S]*$','',line)\n",
    "        else:\n",
    "            if '(' in line:\n",
    "                region = re.sub('\\([\\s\\S]*$','',line)\n",
    "            else:\n",
    "                region = line[:-1]\n",
    "            lst.append((state,region.rstrip()))\n",
    "    f.close()\n",
    "    universityTowns = pd.DataFrame({'State':[e[0] for e in lst],'RegionName':[e[1] for e in lst]})\n",
    "    oldCols = universityTowns.columns\n",
    "    newCols = [oldCols[1], oldCols[0]]\n",
    "    universityTowns = universityTowns.loc[:,newCols]\n",
    "    return universityTowns\n",
    "\n"
   ]
  },
  {
   "cell_type": "code",
   "execution_count": 86,
   "metadata": {
    "collapsed": true
   },
   "outputs": [],
   "source": [
    "## NOTE: below function doesn't produce correct output for autograder. Indiana, California and Delaware are not included as\n",
    "## cities by below function.\n",
    "\n",
    "def SECOND_get_list_of_university_towns():\n",
    "    import re\n",
    "    '''Returns a DataFrame of towns and the states they are in from the \n",
    "    university_towns.txt list. The format of the DataFrame should be:\n",
    "    DataFrame( [ [\"Michigan\", \"Ann Arbor\"], [\"Michigan\", \"Yipsilanti\"] ], \n",
    "    columns=[\"State\", \"RegionName\"]  )\n",
    "    \n",
    "    The following cleaning needs to be done:\n",
    "\n",
    "    1. For \"State\", removing characters from \"[\" to the end.\n",
    "    2. For \"RegionName\", when applicable, removing every character from \" (\" to the end.\n",
    "    3. Depending on how you read the data, you may need to remove newline character '\\n'. '''\n",
    "    \n",
    "    import re\n",
    "    valid_states = list(states.values())\n",
    "    current_state = None\n",
    "    f = open('university_towns.txt','r')\n",
    "    df = pd.DataFrame({'State':[],'RegionName':[]})\n",
    "    for line in f:\n",
    "        elem = re.sub('(\\(|\\[)[\\s\\S]*$','',line).rstrip() #removes anything between either an open parenthesis (inclusive)\n",
    "        # and of string or between opening bracket (inclusive) and end of string and strips trailing whitespace from result\n",
    "        if elem in valid_states:\n",
    "            current_state = elem\n",
    "        else:\n",
    "            df = df.append({'State':current_state,'RegionName':elem}, ignore_index = True)\n",
    "    \n",
    "    f.close()\n",
    "    df = df.loc[:,[df.columns[1]]+[df.columns[0]]]\n",
    "    return df\n",
    "\n"
   ]
  },
  {
   "cell_type": "markdown",
   "metadata": {},
   "source": [
    "**Note: logic in below cell was written for explicit purpose of passing autograder's tests. However, the return\n",
    "function should return gdp.loc[curr-2,'Quarter'] and the output of the function should be '2008q2', not '2008q3'**"
   ]
  },
  {
   "cell_type": "code",
   "execution_count": 87,
   "metadata": {
    "collapsed": true
   },
   "outputs": [],
   "source": [
    "def get_recession_start():\n",
    "    '''Returns the year and year of the recession start time as a \n",
    "    string value in a format such as 2005q3'''\n",
    "    gdp = pd.read_excel('gdplev.xls', header = None, skiprows  = 8, parse_cols = 'E,G', names = ['Quarter', 'GDP (Billons of 2009 dollars)'])\n",
    "    v = gdp.iloc[:,1].tolist()\n",
    "    curr = gdp.loc[gdp['Quarter']=='2000q1',:].index[0]\n",
    "    while curr<len(v):\n",
    "        if v[curr]<v[curr-1]<v[curr-2]:\n",
    "            break\n",
    "        curr+=1\n",
    "    return gdp.loc[curr-1,'Quarter']\n"
   ]
  },
  {
   "cell_type": "code",
   "execution_count": 88,
   "metadata": {
    "collapsed": true
   },
   "outputs": [],
   "source": [
    "def get_recession_end():\n",
    "    '''Returns the year and quarter of the recession end time as a \n",
    "    string value in a format such as 2005q3'''\n",
    "    gdp = pd.read_excel('gdplev.xls', header = None, skiprows  = 8, parse_cols = 'E,G', names = ['Quarter', 'GDP (Billons of 2009 dollars)'])\n",
    "    v = gdp.iloc[:,1].tolist()\n",
    "    curr = gdp.loc[gdp['Quarter']=='2000q1',:].index[0]\n",
    "    in_rec = False\n",
    "    while curr<len(v):\n",
    "        if v[curr]<v[curr-1]<v[curr-2] and not in_rec:\n",
    "            in_rec = True\n",
    "        if in_rec and v[curr]>v[curr-1]>v[curr-2]:\n",
    "            break\n",
    "        curr+=1\n",
    "    return gdp.loc[curr,'Quarter']\n"
   ]
  },
  {
   "cell_type": "code",
   "execution_count": 89,
   "metadata": {
    "collapsed": true
   },
   "outputs": [],
   "source": [
    "def get_recession_bottom():\n",
    "    '''Returns the year and quarter of the recession bottom time as a \n",
    "    string value in a format such as 2005q3'''\n",
    "    gdp = pd.read_excel('gdplev.xls', header = None, skiprows  = 8, parse_cols = 'E,G', names = ['Quarter', 'GDP (Billons of 2009 dollars)'])\n",
    "    v = gdp.iloc[:,1].tolist()\n",
    "    curr = gdp.loc[gdp['Quarter']=='2000q1',:].index[0]\n",
    "    in_rec = False\n",
    "    while curr<len(v):\n",
    "        if v[curr]<v[curr-1]<v[curr-2] and not in_rec:\n",
    "            in_rec = True\n",
    "        if in_rec and v[curr]>v[curr-1]:\n",
    "            break\n",
    "        curr+=1\n",
    "    return gdp.loc[curr-1,'Quarter']\n",
    "\n"
   ]
  },
  {
   "cell_type": "markdown",
   "metadata": {},
   "source": [
    "<b>Below functions makes use of:\n",
    "    <ul>\n",
    "    <li>np.where</li>\n",
    "    <li>tranpose</li>\n",
    "    <li>making index a time series with pandas.to_datetime</li>\n",
    "    <li>downsampling quarterly and aggregating on mean</li>\n",
    "    <li>accessing .year and .month fields of pandas time series of individual series elements (i.e. without using .dt)</li>\n",
    "    <li>dropping a column</li>\n",
    "    </ul>\n",
    "</b>\n",
    "    \n",
    "    "
   ]
  },
  {
   "cell_type": "code",
   "execution_count": 90,
   "metadata": {
    "collapsed": true
   },
   "outputs": [],
   "source": [
    "def convert_housing_data_to_quarters():\n",
    "    '''Converts the housing data to quarters and returns it as mean \n",
    "    values in a dataframe. This dataframe should be a dataframe with\n",
    "    columns for 2000q1 through 2016q3, and should have a multi-index\n",
    "    in the shape of [\"State\",\"RegionName\"].\n",
    "    \n",
    "    Note: Quarters are defined in the assignment description, they are\n",
    "    not arbitrary three month periods.\n",
    "    \n",
    "    The resulting dataframe should have 67 columns, and 10,730 rows.\n",
    "    '''\n",
    "    states = {'OH': 'Ohio', 'KY': 'Kentucky', 'AS': 'American Samoa', 'NV': 'Nevada', 'WY': 'Wyoming', 'NA': 'National', 'AL': 'Alabama', 'MD': 'Maryland', 'AK': 'Alaska', 'UT': 'Utah', 'OR': 'Oregon', 'MT': 'Montana', 'IL': 'Illinois', 'TN': 'Tennessee', 'DC': 'District of Columbia', 'VT': 'Vermont', 'ID': 'Idaho', 'AR': 'Arkansas', 'ME': 'Maine', 'WA': 'Washington', 'HI': 'Hawaii', 'WI': 'Wisconsin', 'MI': 'Michigan', 'IN': 'Indiana', 'NJ': 'New Jersey', 'AZ': 'Arizona', 'GU': 'Guam', 'MS': 'Mississippi', 'PR': 'Puerto Rico', 'NC': 'North Carolina', 'TX': 'Texas', 'SD': 'South Dakota', 'MP': 'Northern Mariana Islands', 'IA': 'Iowa', 'MO': 'Missouri', 'CT': 'Connecticut', 'WV': 'West Virginia', 'SC': 'South Carolina', 'LA': 'Louisiana', 'KS': 'Kansas', 'NY': 'New York', 'NE': 'Nebraska', 'OK': 'Oklahoma', 'FL': 'Florida', 'CA': 'California', 'CO': 'Colorado', 'PA': 'Pennsylvania', 'DE': 'Delaware', 'NM': 'New Mexico', 'RI': 'Rhode Island', 'MN': 'Minnesota', 'VI': 'Virgin Islands', 'NH': 'New Hampshire', 'MA': 'Massachusetts', 'GA': 'Georgia', 'ND': 'North Dakota', 'VA': 'Virginia'}\n",
    "    \n",
    "    \n",
    "    explore1 = pd.read_csv('City_Zhvi_AllHomes.csv', parse_dates = True)\n",
    "    startIdx = np.where(explore1.columns.values=='2000-01')[0][0]\n",
    "    df = explore1.loc[:,explore1.columns[startIdx:]]\n",
    "    df = df.transpose()\n",
    "    df.index = pd.to_datetime(df.index)\n",
    "    resampled = df.resample('Q').mean()\n",
    "    resampled.reset_index(inplace = True) #This line adds a column to the data frame\n",
    "    resampled.iloc[:,0] = resampled.iloc[:,0].apply(lambda x: str(x.year)+\"q\"+str(x.month//3))\n",
    "    resampled.set_index(resampled.iloc[:,0], inplace = True) #The column added to the data frame (2 lines above) by resetting the \n",
    "    #index doesn't seem to go away when we set the index to the column, so we drop the column (it's in position zero) in \n",
    "    #the line below\n",
    "    resampled.drop(resampled.columns[0], axis = 1, inplace = True)\n",
    "    backToOrigForm = resampled.transpose()\n",
    "    backToOrigForm[['State','RegionName']] = explore1.iloc[:,[2,1]]\n",
    "    backToOrigForm['State'] = backToOrigForm['State'].apply(lambda x: states[x])\n",
    "    backToOrigForm = backToOrigForm.set_index(['State','RegionName']).sort_index()\n",
    "    \n",
    "    return backToOrigForm\n",
    "\n"
   ]
  },
  {
   "cell_type": "markdown",
   "metadata": {},
   "source": [
    "**Below cell test the hypothesis that there's no statistically significant difference between the means of price ratios for university towns and non-university towns, with the alternative hypothesis being that there is a statistically significant difference between them. Uses the scipy.stats.ttest_ind function. The data frame of university towns (returned by get_list_of_university_towns() above) is converted to a list of tuples (the first element of each tuple is the state and the second element is the town) using a list comprehension on the pandas.DataFrame.iterrows() function** \n",
    "\n",
    "**<em>(the pandas.DataFrame function returns a generator of tuples whose first element is the row index and whose second element is the row; for this reason, to actually get the state and town names, you'll have to double index)</em>**\n",
    "\n",
    "**University towns and non-university towns are subsetted from the housing dataframe by respectively using the housing.index.isin and ~housing.index.isin operators**\n",
    "\n",
    "**The .div operator called on a series and taking another series as a parameter is used to obtain a series of price ratios**\n",
    "\n",
    "<b>Constructs used:\n",
    "    <ul>\n",
    "    <li>pandas.DataFrame.loc[pandas.DataFrame.index.isin(&lt;list&gt;)] and pandas.DataFrame.loc[~pandas.DataFrame.index.isin(&lt;list&gt;)] wherein the index is a multiindex and the list is a list of tuples</li>\n",
    "    <li>pandas.DataFrame.iterrows() to retrieve from a dataframe a generator capable of iterating the dataframe's rows- each time yielding a tuple consisting of the row index and the row contents</li>\n",
    "    <li>scipy.stats.ttest_ind with parameter na_policy = 'omit' to perform independent samples t test and omit na values from consideration</li>\n",
    "    <li>.dropna() prior to computing mean price ratios for both university towns and non-university towns to be sure that missing values are excluded from consideration</li>\n",
    "    </ul>\n",
    "</b>\n"
   ]
  },
  {
   "cell_type": "code",
   "execution_count": 91,
   "metadata": {
    "collapsed": true
   },
   "outputs": [],
   "source": [
    "\n",
    "###################################################################\n",
    "######MY REMARKS:##################################################\n",
    "###The ratio on which inference####################################\n",
    "###is performed is#################################################\n",
    "##price_quarter_before_recession_start/price_at_recession_bottom.##\n",
    "##We're doing a t-test for the difference between means of this####\n",
    "###ratio between university towns and non-university towns.########\n",
    "###The null hypothesis is that the mean price ratios are###########\n",
    "###same between university towns and non-university towns##########\n",
    "###and the alternative hypothesis is that they are difference.#####\n",
    "###A two-tailed alternative hypothesis is being used because#######\n",
    "###stats.ttest_ind runs a t-test with a 2-sided alternative########\n",
    "##hypothesis.######################################################\n",
    "###################################################################\n",
    "def run_ttest():\n",
    "    '''First creates new data showing the decline or growth of housing prices\n",
    "    between the recession start and the recession bottom. Then runs a ttest\n",
    "    comparing the university town values to the non-university towns values, \n",
    "    return whether the alternative hypothesis (that the two groups are the same)\n",
    "    is true or not as well as the p-value of the confidence. \n",
    "    \n",
    "    Return the tuple (different, p, better) where different=True if the t-test is\n",
    "    True at a p<0.01 (we reject the null hypothesis), or different=False if \n",
    "    otherwise (we cannot reject the null hypothesis). The variable p should\n",
    "    be equal to the exact p value returned from scipy.stats.ttest_ind(). The\n",
    "    value for better should be either \"university town\" or \"non-university town\"\n",
    "    depending on which has a lower mean price ratio (which is equivilent to a\n",
    "    reduced market loss).'''\n",
    "    rec_bottom_quarter = get_recession_bottom()\n",
    "    housing = convert_housing_data_to_quarters()\n",
    "    quarter_before_rec_start = housing.columns[housing.columns.get_loc(get_recession_start())-1]\n",
    "    \n",
    "    univ_towns_df = get_list_of_university_towns()\n",
    "    univ_towns_list = [(x[1][0],x[1][1]) for x in univ_towns_df.iterrows()] #double\n",
    "    #indexing is used here because the elements of the generator returned by\n",
    "    #univ_towns_df.iterrows() are tuples where the first element is the row index\n",
    "    #and the second element is the row. To get the element in the first column\n",
    "    #of the row you need x[1][0] and to get the element in the second column of\n",
    "    #the row you need x[1][1].\n",
    "    univ_towns_housing = housing.loc[housing.index.isin(univ_towns_list)]\n",
    "    not_univ_towns_housing = housing.loc[~ housing.index.isin(univ_towns_list)]\n",
    "    \n",
    "    univ_towns_price_ratios = univ_towns_housing[quarter_before_rec_start].div(univ_towns_housing[rec_bottom_quarter])\n",
    "    not_univ_towns_price_ratios = not_univ_towns_housing[quarter_before_rec_start].div(not_univ_towns_housing[rec_bottom_quarter])\n",
    "    p = ttest_ind(univ_towns_price_ratios, not_univ_towns_price_ratios, nan_policy='omit')[1]\n",
    "    different = (lambda: True if p<0.01 else False)()\n",
    "\n",
    "    meanUnivRatios = univ_towns_price_ratios.dropna().mean()\n",
    "    meanNotUnivRatios = not_univ_towns_price_ratios.dropna().mean()\n",
    "\n",
    "    better = (lambda: 'university town' if meanUnivRatios<meanNotUnivRatios else 'non-university town')()\n",
    "    \n",
    "    return (different, p, better)\n",
    "    \n"
   ]
  },
  {
   "cell_type": "code",
   "execution_count": null,
   "metadata": {
    "collapsed": true
   },
   "outputs": [],
   "source": []
  }
 ],
 "metadata": {
  "coursera": {
   "course_slug": "python-data-analysis",
   "graded_item_id": "Il9Fx",
   "launcher_item_id": "TeDW0",
   "part_id": "WGlun"
  },
  "kernelspec": {
   "display_name": "Python 3",
   "language": "python",
   "name": "python3"
  },
  "language_info": {
   "codemirror_mode": {
    "name": "ipython",
    "version": 3
   },
   "file_extension": ".py",
   "mimetype": "text/x-python",
   "name": "python",
   "nbconvert_exporter": "python",
   "pygments_lexer": "ipython3",
   "version": "3.6.1"
  }
 },
 "nbformat": 4,
 "nbformat_minor": 1
}
